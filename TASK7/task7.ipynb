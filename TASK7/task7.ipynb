{
 "cells": [
  {
   "cell_type": "code",
   "execution_count": 9,
   "id": "2022fe74",
   "metadata": {},
   "outputs": [
    {
     "name": "stdout",
     "output_type": "stream",
     "text": [
      "Database and table created successfully with sample data.\n"
     ]
    }
   ],
   "source": [
    "import sqlite3\n",
    "\n",
    "# Connect to SQLite and create file 'sales_data.db'\n",
    "conn = sqlite3.connect(\"sales_data.db\")\n",
    "\n",
    "# Create a cursor object to run SQL commands\n",
    "cursor = conn.cursor()\n",
    "\n",
    "# Create a table\n",
    "cursor.execute(\"\"\"\n",
    "CREATE TABLE IF NOT EXISTS sales (\n",
    "    product TEXT,\n",
    "    quantity INTEGER,\n",
    "    price REAL\n",
    ")\n",
    "\"\"\")\n",
    "data = [\n",
    "    ('Apple', 10, 2.5),\n",
    "    ('Banana', 20, 1.2),\n",
    "    ('Orange', 15, 1.8),\n",
    "    ('Apple', 5, 2.5),\n",
    "    ('Banana', 10, 1.2)\n",
    "]\n",
    "\n",
    "cursor.executemany(\"INSERT INTO sales (product, quantity, price) VALUES (?, ?, ?)\", data)\n",
    "\n",
    "# Save (commit) changes\n",
    "conn.commit()\n",
    "\n",
    "# Close the connection\n",
    "#conn.close()\n",
    "\n",
    "print(\"Database and table created successfully with sample data.\")\n"
   ]
  },
  {
   "cell_type": "code",
   "execution_count": 10,
   "id": "86651edb",
   "metadata": {},
   "outputs": [],
   "source": [
    "query = \"\"\"\n",
    "SELECT \n",
    "    product,\n",
    "    SUM(quantity) AS total_qty,\n",
    "    SUM(quantity * price) AS revenue\n",
    "FROM sales\n",
    "GROUP BY product;\n",
    "\"\"\""
   ]
  },
  {
   "cell_type": "code",
   "execution_count": 11,
   "id": "533dc45b",
   "metadata": {},
   "outputs": [],
   "source": [
    "import pandas as pd\n",
    "\n",
    "df = pd.read_sql_query(query, conn)"
   ]
  },
  {
   "cell_type": "code",
   "execution_count": 12,
   "id": "36ffc4ce",
   "metadata": {},
   "outputs": [
    {
     "data": {
      "text/html": [
       "<div>\n",
       "<style scoped>\n",
       "    .dataframe tbody tr th:only-of-type {\n",
       "        vertical-align: middle;\n",
       "    }\n",
       "\n",
       "    .dataframe tbody tr th {\n",
       "        vertical-align: top;\n",
       "    }\n",
       "\n",
       "    .dataframe thead th {\n",
       "        text-align: right;\n",
       "    }\n",
       "</style>\n",
       "<table border=\"1\" class=\"dataframe\">\n",
       "  <thead>\n",
       "    <tr style=\"text-align: right;\">\n",
       "      <th></th>\n",
       "      <th>product</th>\n",
       "      <th>total_qty</th>\n",
       "      <th>revenue</th>\n",
       "    </tr>\n",
       "  </thead>\n",
       "  <tbody>\n",
       "    <tr>\n",
       "      <th>0</th>\n",
       "      <td>Apple</td>\n",
       "      <td>45</td>\n",
       "      <td>112.5</td>\n",
       "    </tr>\n",
       "    <tr>\n",
       "      <th>1</th>\n",
       "      <td>Banana</td>\n",
       "      <td>90</td>\n",
       "      <td>108.0</td>\n",
       "    </tr>\n",
       "    <tr>\n",
       "      <th>2</th>\n",
       "      <td>Orange</td>\n",
       "      <td>45</td>\n",
       "      <td>81.0</td>\n",
       "    </tr>\n",
       "  </tbody>\n",
       "</table>\n",
       "</div>"
      ],
      "text/plain": [
       "  product  total_qty  revenue\n",
       "0   Apple         45    112.5\n",
       "1  Banana         90    108.0\n",
       "2  Orange         45     81.0"
      ]
     },
     "execution_count": 12,
     "metadata": {},
     "output_type": "execute_result"
    }
   ],
   "source": [
    "df"
   ]
  },
  {
   "cell_type": "code",
   "execution_count": 13,
   "id": "e4f729a5",
   "metadata": {},
   "outputs": [
    {
     "data": {
      "image/png": "[encoded data removed]",
      "text/plain": [
       "<Figure size 640x480 with 1 Axes>"
      ]
     },
     "metadata": {},
     "output_type": "display_data"
    }
   ],
   "source": [
    "import matplotlib.pyplot as plt\n",
    "\n",
    "df.plot(kind='bar', x='product', y='revenue', legend=False)\n",
    "plt.title(\"Total Revenue by Product\")\n",
    "plt.ylabel(\"Revenue\")\n",
    "plt.xlabel(\"Product\")\n",
    "plt.tight_layout()\n",
    "plt.show()"
   ]
  },
  {
   "cell_type": "code",
   "execution_count": 14,
   "id": "41c56680",
   "metadata": {},
   "outputs": [
    {
     "data": {
      "text/plain": [
       "<Figure size 640x480 with 0 Axes>"
      ]
     },
     "metadata": {},
     "output_type": "display_data"
    }
   ],
   "source": [
    "plt.savefig(\"sales_chart.png\")"
   ]
  }
 ],
 "metadata": {
  "kernelspec": {
   "display_name": "base",
   "language": "python",
   "name": "python3"
  },
  "language_info": {
   "codemirror_mode": {
    "name": "ipython",
    "version": 3
   },
   "file_extension": ".py",
   "mimetype": "text/x-python",
   "name": "python",
   "nbconvert_exporter": "python",
   "pygments_lexer": "ipython3",
   "version": "3.9.13"
  }
 },
 "nbformat": 4,
 "nbformat_minor": 5
}
